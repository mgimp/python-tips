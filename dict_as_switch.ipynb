{
 "cells": [
  {
   "cell_type": "markdown",
   "metadata": {},
   "source": [
    "# Functions are First-Class Citizens\n",
    "\n",
    "They can be passed as arguments to other functions, returned as values from other functions, and assigned to variables and stored in data structures."
   ]
  },
  {
   "cell_type": "code",
   "execution_count": 7,
   "metadata": {},
   "outputs": [
    {
     "name": "stdout",
     "output_type": "stream",
     "text": [
      "<function myfunc at 0x7f9b09c9d9d0>\n",
      "5\n"
     ]
    }
   ],
   "source": [
    "def myfunc(a, b):\n",
    "     return a + b\n",
    "\n",
    "funcs = [myfunc]\n",
    "print(funcs[0])        # OUT: <function myfunc at 0x########> (The function location)\n",
    "print(funcs[0](2, 3))  # OUT: 5"
   ]
  },
  {
   "cell_type": "markdown",
   "metadata": {},
   "source": [
    "# Dictionaries as Switches\n",
    "\n",
    "Because Python has first-class functions, they can be used to emulate switch/case statements.\n",
    "\n",
    "## My Thoughts:\n",
    "\n",
    "Switches are particularly useful when forced into writing a long series of if-then statements. I'm thinking of the spaceinvaders demo that I'm constructing at the moment. This also provides the opportunity to give more descriptive markers to the various conditions, though likely these will not often be used."
   ]
  },
  {
   "cell_type": "code",
   "execution_count": 8,
   "metadata": {},
   "outputs": [
    {
     "name": "stdout",
     "output_type": "stream",
     "text": [
      "16\n",
      "16\n",
      "None\n",
      "None\n"
     ]
    }
   ],
   "source": [
    "def dispatch_if(operator, x, y):\n",
    "    if operator == 'add':\n",
    "        return x + y\n",
    "    elif operator == 'sub':\n",
    "        return x - y\n",
    "    elif operator == 'mul':\n",
    "        return x * y\n",
    "    elif operator == 'div':\n",
    "        return x / y\n",
    "    else:\n",
    "        return None\n",
    "\n",
    "\n",
    "def dispatch_dict(operator, x, y):\n",
    "    return {\n",
    "        'add': lambda: x + y,\n",
    "        'sub': lambda: x - y,\n",
    "        'mul': lambda: x * y,\n",
    "        'div': lambda: x / y,\n",
    "    }.get(operator, lambda: None)()\n",
    "    # dict.get(self, key, default=None, /)\n",
    "    # default, here, is set to lambda: None\n",
    "    # lambda creates a function, so a '()' is necessary to call the function\n",
    "    # printing a lambda function sans '()' will merely return the location of the function rather than calling it\n",
    "\n",
    "print(dispatch_if('mul', 2, 8))        # OUT: 16\n",
    "\n",
    "print(dispatch_dict('mul', 2, 8))      # OUT: 16\n",
    "\n",
    "print(dispatch_if('unknown', 2, 8))    # OUT: None\n",
    "\n",
    "print(dispatch_dict('unknown', 2, 8))  # OUT: None"
   ]
  }
 ],
 "metadata": {
  "interpreter": {
   "hash": "8f5ab71bff6db56de884124358177dc4b5f08efc4c8d738c105488aa9e4cf211"
  },
  "kernelspec": {
   "display_name": "Python 3.9.7 ('base')",
   "language": "python",
   "name": "python3"
  },
  "language_info": {
   "codemirror_mode": {
    "name": "ipython",
    "version": 3
   },
   "file_extension": ".py",
   "mimetype": "text/x-python",
   "name": "python",
   "nbconvert_exporter": "python",
   "pygments_lexer": "ipython3",
   "version": "3.9.7"
  },
  "orig_nbformat": 4
 },
 "nbformat": 4,
 "nbformat_minor": 2
}
