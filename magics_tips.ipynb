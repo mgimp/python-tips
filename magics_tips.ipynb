{
 "cells": [
  {
   "cell_type": "markdown",
   "metadata": {},
   "source": [
    "## BASH commands\n",
    "\n",
    "Place an `!` at the start of a line to run the line as a BASH command."
   ]
  },
  {
   "cell_type": "code",
   "execution_count": null,
   "metadata": {},
   "outputs": [
    {
     "ename": "",
     "evalue": "",
     "output_type": "error",
     "traceback": [
      "\u001b[1;31mFailed to start the Kernel. \n",
      "Kernel Python 2.7.18 is not usable. Check the Jupyter output tab for more information. \n",
      "View Jupyter <a href='command:jupyter.viewOutput'>log</a> for further details."
     ]
    }
   ],
   "source": [
    "!ls"
   ]
  },
  {
   "cell_type": "markdown",
   "metadata": {},
   "source": [
    "## Magic Commands\n",
    "\n",
    "These run by prefacing lines with `%` or `%%`.  \n",
    "`%` will run the line as an input.\n",
    "`%%` will run the cell as an input."
   ]
  },
  {
   "cell_type": "code",
   "execution_count": null,
   "metadata": {},
   "outputs": [],
   "source": [
    "%lsmagic"
   ]
  },
  {
   "cell_type": "code",
   "execution_count": null,
   "metadata": {},
   "outputs": [],
   "source": [
    "%pwd"
   ]
  },
  {
   "cell_type": "code",
   "execution_count": null,
   "metadata": {},
   "outputs": [],
   "source": [
    "%ls -la"
   ]
  },
  {
   "cell_type": "markdown",
   "metadata": {},
   "source": [
    "`%matplotlib inline` allows us to run matplots inline (beneath cells).  \n",
    "This is on by default in vscode notebooks."
   ]
  },
  {
   "cell_type": "code",
   "execution_count": null,
   "metadata": {},
   "outputs": [],
   "source": [
    "%matplotlib inline"
   ]
  },
  {
   "cell_type": "markdown",
   "metadata": {},
   "source": [
    "`%%HTML` allows you to run HTML directly into the cell's output."
   ]
  },
  {
   "cell_type": "code",
   "execution_count": null,
   "metadata": {},
   "outputs": [
    {
     "data": {
      "text/html": [
       "<img src=\"https://thechive.com/wp-content/uploads/2019/12/person-hilariously-photoshops-animals-onto-random-things-xx-photos-25.jpg?attachment_cache_bust=3136487&quality=85&strip=info&w=400\" alt=\"Banana Duck\" width=\"300\">\n"
      ],
      "text/plain": [
       "<IPython.core.display.HTML object>"
      ]
     },
     "metadata": {},
     "output_type": "display_data"
    }
   ],
   "source": [
    "%%HTML\n",
    "<img src=\"https://thechive.com/wp-content/uploads/2019/12/person-hilariously-photoshops-animals-onto-random-things-xx-photos-25.jpg?attachment_cache_bust=3136487&quality=85&strip=info&w=400\" alt=\"Banana Duck\" width=\"300\">"
   ]
  },
  {
   "cell_type": "markdown",
   "metadata": {},
   "source": [
    "`%%timeit` returns the time necessary to run a cell."
   ]
  },
  {
   "cell_type": "code",
   "execution_count": null,
   "metadata": {},
   "outputs": [
    {
     "name": "stdout",
     "output_type": "stream",
     "text": [
      "49.7 µs ± 274 ns per loop (mean ± std. dev. of 7 runs, 10000 loops each)\n"
     ]
    }
   ],
   "source": [
    "%%timeit\n",
    "square_evens = [n*n for n in range(1000)]"
   ]
  },
  {
   "cell_type": "markdown",
   "metadata": {},
   "source": [
    "## Display\n",
    "\n",
    "Jupyter notebooks will offer some display options for things like pandas dataframes when displayed inline."
   ]
  },
  {
   "cell_type": "code",
   "execution_count": null,
   "metadata": {},
   "outputs": [
    {
     "data": {
      "text/html": [
       "<div>\n",
       "<style scoped>\n",
       "    .dataframe tbody tr th:only-of-type {\n",
       "        vertical-align: middle;\n",
       "    }\n",
       "\n",
       "    .dataframe tbody tr th {\n",
       "        vertical-align: top;\n",
       "    }\n",
       "\n",
       "    .dataframe thead th {\n",
       "        text-align: right;\n",
       "    }\n",
       "</style>\n",
       "<table border=\"1\" class=\"dataframe\">\n",
       "  <thead>\n",
       "    <tr style=\"text-align: right;\">\n",
       "      <th></th>\n",
       "      <th>0</th>\n",
       "      <th>1</th>\n",
       "      <th>2</th>\n",
       "      <th>3</th>\n",
       "      <th>4</th>\n",
       "    </tr>\n",
       "  </thead>\n",
       "  <tbody>\n",
       "    <tr>\n",
       "      <th>0</th>\n",
       "      <td>-0.735673</td>\n",
       "      <td>0.398548</td>\n",
       "      <td>1.307739</td>\n",
       "      <td>1.055042</td>\n",
       "      <td>0.844064</td>\n",
       "    </tr>\n",
       "    <tr>\n",
       "      <th>1</th>\n",
       "      <td>1.071825</td>\n",
       "      <td>0.043598</td>\n",
       "      <td>0.851699</td>\n",
       "      <td>2.394231</td>\n",
       "      <td>-0.873424</td>\n",
       "    </tr>\n",
       "    <tr>\n",
       "      <th>2</th>\n",
       "      <td>0.681030</td>\n",
       "      <td>-0.450299</td>\n",
       "      <td>1.263058</td>\n",
       "      <td>-1.735162</td>\n",
       "      <td>-0.746514</td>\n",
       "    </tr>\n",
       "    <tr>\n",
       "      <th>3</th>\n",
       "      <td>0.286273</td>\n",
       "      <td>0.085947</td>\n",
       "      <td>0.934596</td>\n",
       "      <td>0.309889</td>\n",
       "      <td>-0.516462</td>\n",
       "    </tr>\n",
       "    <tr>\n",
       "      <th>4</th>\n",
       "      <td>-0.518045</td>\n",
       "      <td>-1.577820</td>\n",
       "      <td>0.312646</td>\n",
       "      <td>0.207431</td>\n",
       "      <td>0.294518</td>\n",
       "    </tr>\n",
       "    <tr>\n",
       "      <th>5</th>\n",
       "      <td>-2.249586</td>\n",
       "      <td>-0.847935</td>\n",
       "      <td>-0.235849</td>\n",
       "      <td>-1.453163</td>\n",
       "      <td>-2.294024</td>\n",
       "    </tr>\n",
       "    <tr>\n",
       "      <th>6</th>\n",
       "      <td>0.708955</td>\n",
       "      <td>-1.113993</td>\n",
       "      <td>2.459509</td>\n",
       "      <td>0.047483</td>\n",
       "      <td>0.719479</td>\n",
       "    </tr>\n",
       "    <tr>\n",
       "      <th>7</th>\n",
       "      <td>2.749088</td>\n",
       "      <td>0.187443</td>\n",
       "      <td>-0.317074</td>\n",
       "      <td>-0.004147</td>\n",
       "      <td>0.342217</td>\n",
       "    </tr>\n",
       "    <tr>\n",
       "      <th>8</th>\n",
       "      <td>-1.037015</td>\n",
       "      <td>-0.583042</td>\n",
       "      <td>0.226715</td>\n",
       "      <td>0.329448</td>\n",
       "      <td>-0.186270</td>\n",
       "    </tr>\n",
       "    <tr>\n",
       "      <th>9</th>\n",
       "      <td>0.300533</td>\n",
       "      <td>-1.101010</td>\n",
       "      <td>0.256470</td>\n",
       "      <td>0.892401</td>\n",
       "      <td>1.218624</td>\n",
       "    </tr>\n",
       "  </tbody>\n",
       "</table>\n",
       "</div>"
      ],
      "text/plain": [
       "          0         1         2         3         4\n",
       "0 -0.735673  0.398548  1.307739  1.055042  0.844064\n",
       "1  1.071825  0.043598  0.851699  2.394231 -0.873424\n",
       "2  0.681030 -0.450299  1.263058 -1.735162 -0.746514\n",
       "3  0.286273  0.085947  0.934596  0.309889 -0.516462\n",
       "4 -0.518045 -1.577820  0.312646  0.207431  0.294518\n",
       "5 -2.249586 -0.847935 -0.235849 -1.453163 -2.294024\n",
       "6  0.708955 -1.113993  2.459509  0.047483  0.719479\n",
       "7  2.749088  0.187443 -0.317074 -0.004147  0.342217\n",
       "8 -1.037015 -0.583042  0.226715  0.329448 -0.186270\n",
       "9  0.300533 -1.101010  0.256470  0.892401  1.218624"
      ]
     },
     "execution_count": 3,
     "metadata": {},
     "output_type": "execute_result"
    }
   ],
   "source": [
    "import pandas as pd\n",
    "import numpy as np\n",
    "\n",
    "df = pd.DataFrame(np.random.randn(10, 5))\n",
    "df"
   ]
  }
 ],
 "metadata": {
  "interpreter": {
   "hash": "8f5ab71bff6db56de884124358177dc4b5f08efc4c8d738c105488aa9e4cf211"
  },
  "kernelspec": {
   "display_name": "Python 3.9.7 ('base')",
   "language": "python",
   "name": "python3"
  },
  "language_info": {
   "codemirror_mode": {
    "name": "ipython",
    "version": 3
   },
   "file_extension": ".py",
   "mimetype": "text/x-python",
   "name": "python",
   "nbconvert_exporter": "python",
   "pygments_lexer": "ipython3",
   "version": "2.7.18"
  },
  "orig_nbformat": 4
 },
 "nbformat": 4,
 "nbformat_minor": 2
}
