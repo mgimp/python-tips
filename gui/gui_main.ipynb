{
 "cells": [
  {
   "cell_type": "markdown",
   "metadata": {},
   "source": [
    "# General GUI Production"
   ]
  },
  {
   "cell_type": "markdown",
   "metadata": {},
   "source": [
    "## Imports"
   ]
  },
  {
   "cell_type": "code",
   "execution_count": 10,
   "metadata": {},
   "outputs": [],
   "source": [
    "from tkinter import *"
   ]
  },
  {
   "cell_type": "markdown",
   "metadata": {},
   "source": [
    "## Create and Name Window"
   ]
  },
  {
   "cell_type": "code",
   "execution_count": 11,
   "metadata": {},
   "outputs": [
    {
     "data": {
      "text/plain": [
       "''"
      ]
     },
     "execution_count": 11,
     "metadata": {},
     "output_type": "execute_result"
    }
   ],
   "source": [
    "window = Tk()\n",
    "window.title(\"General GUI\")\n",
    "window.geometry(\"400x300\")"
   ]
  },
  {
   "cell_type": "markdown",
   "metadata": {},
   "source": [
    "## Create Functions\n",
    "\n",
    "Current functions are placeholders."
   ]
  },
  {
   "cell_type": "code",
   "execution_count": 12,
   "metadata": {},
   "outputs": [],
   "source": [
    "save_func = lambda: print(\"Save...\")\n",
    "saveas_func = lambda: print(\"Save as...\")\n",
    "new_func = lambda: print(\"New\")\n",
    "open_func = lambda: print(\"Open\")\n",
    "undo_func = lambda: print(\"Undo\")\n",
    "redo_func = lambda: print(\"Redo\")\n",
    "moo_func = lambda: print(\"Moo Moo\")\n",
    "coo_func = lambda: print(\"Coo Coo Cachoo\")\n",
    "quickdef_func = lambda: print(\"Quick Definition\")\n",
    "quicktypedef_func = lambda: print(\"Quick Type Definition\")\n",
    "param_func = lambda: print(\"Parameter Info\")\n",
    "london_func = lambda: print(\"London and France\")\n",
    "findact_func = lambda: print(\"Find Action...\")\n",
    "enable_func = lambda: print(\"Enable Course Creator Features\")\n",
    "me_func = lambda: print(\"ME if you can I'm feeling dooooooown\")\n",
    "i_func = lambda: print(\"I need somebody!\")\n",
    "copy_func = lambda: print(\"Copy\")\n",
    "paste_func = lambda: print(\"Paste\")\n",
    "context_func = lambda: print(\"Show Context Actions\")"
   ]
  },
  {
   "cell_type": "markdown",
   "metadata": {},
   "source": [
    "## Menus"
   ]
  },
  {
   "cell_type": "markdown",
   "metadata": {},
   "source": [
    "### Create Menu Widgets\n",
    "\n",
    "The menu bar and popup menu occur in the window. File, edit, view, and help cascade menus occur in the menu bar."
   ]
  },
  {
   "cell_type": "code",
   "execution_count": 13,
   "metadata": {},
   "outputs": [],
   "source": [
    "popup_menu = Menu(window)\n",
    "menu_bar = Menu(window)\n",
    "\n",
    "file_menu = Menu(menu_bar)\n",
    "menu_bar.add_cascade(label=\"File\", menu=file_menu)\n",
    "\n",
    "edit_menu = Menu(menu_bar)\n",
    "menu_bar.add_cascade(label=\"Edit\", menu=edit_menu)\n",
    "\n",
    "view_menu = Menu(menu_bar)\n",
    "menu_bar.add_cascade(label=\"View\", menu=view_menu)\n",
    "\n",
    "help_menu = Menu(menu_bar)\n",
    "menu_bar.add_cascade(label=\"Help\", menu=help_menu)"
   ]
  },
  {
   "cell_type": "markdown",
   "metadata": {},
   "source": [
    "### Configure Menu Widgets\n",
    "\n",
    "Attach menu selections to cascade menus with related functions."
   ]
  },
  {
   "cell_type": "code",
   "execution_count": 14,
   "metadata": {},
   "outputs": [],
   "source": [
    "file_menu.add_command(label=\"New\", command=new_func)\n",
    "file_menu.add_command(label=\"Open\", command=open_func)\n",
    "file_menu.add_separator()\n",
    "\n",
    "save_menu = Menu(file_menu)\n",
    "file_menu.add_cascade(label=\"Save\", menu=save_menu)\n",
    "save_menu.add_command(label=\"Save...\", command=save_func)\n",
    "save_menu.add_command(label=\"Save as...\", command=saveas_func)\n",
    "\n",
    "edit_menu.add_command(label=\"Undo\", command=undo_func)\n",
    "edit_menu.add_command(label=\"Redo\", command=redo_func)\n",
    "edit_menu.add_command(label=\"Moo Moo\", command=moo_func)\n",
    "edit_menu.add_command(label=\"Coo Coo Cachoo\", command=coo_func)\n",
    "\n",
    "view_menu.add_command(label=\"Quick Definition\", command=quickdef_func)\n",
    "view_menu.add_command(label=\"Quick Type Definition\", command=quicktypedef_func)\n",
    "view_menu.add_command(label=\"Parameter Info\", command=param_func)\n",
    "view_menu.add_command(label=\"London and France\", command=london_func)\n",
    "\n",
    "help_menu.add_command(label=\"Find Action...\", command=findact_func)\n",
    "help_menu.add_command(label=\"Enable Course Creator Features\", command=enable_func)\n",
    "help_menu.add_command(label=\"Me if you can I'm feeling dooooooown\", command=me_func)\n",
    "help_menu.add_command(label=\"I need somebody!\", command=i_func)\n",
    "\n",
    "# Popup menu\n",
    "popup_menu.add_command(label=\"Copy\", command=copy_func)\n",
    "popup_menu.add_command(label=\"Paste\", command=paste_func)\n",
    "popup_menu.add_command(label=\"Show Context Actions\", command=context_func)"
   ]
  },
  {
   "cell_type": "markdown",
   "metadata": {},
   "source": [
    "## Create Popup Menu Event\n",
    "\n",
    "Find the x and y positions where the user clicked the right mouse button\n",
    "\n",
    "### `event`\n",
    "\n",
    "The `event` object is created when using `bind` methods and holds a lot of miscellaneous attributes."
   ]
  },
  {
   "cell_type": "code",
   "execution_count": 15,
   "metadata": {},
   "outputs": [],
   "source": [
    "def popup_menu_event(event):    \n",
    "    x_position_of_click = event.x_root\n",
    "    y_position_of_click = event.y_root\n",
    "    popup_menu.post(x_position_of_click, y_position_of_click)   # post/place the pop menu where the user clicked."
   ]
  },
  {
   "cell_type": "markdown",
   "metadata": {},
   "source": [
    "## Bind Widgets to Functions\n",
    "\n",
    "We're only doing this with the right click (button-2) menu."
   ]
  },
  {
   "cell_type": "code",
   "execution_count": 16,
   "metadata": {},
   "outputs": [
    {
     "data": {
      "text/plain": [
       "'140602746797952popup_menu_event'"
      ]
     },
     "execution_count": 16,
     "metadata": {},
     "output_type": "execute_result"
    }
   ],
   "source": [
    "window.bind(\"<Button-2>\", popup_menu_event)"
   ]
  },
  {
   "cell_type": "markdown",
   "metadata": {},
   "source": [
    "## Configure Window\n",
    "\n",
    "I can't remember what this does."
   ]
  },
  {
   "cell_type": "code",
   "execution_count": 17,
   "metadata": {},
   "outputs": [],
   "source": [
    "window.config(menu=menu_bar)"
   ]
  },
  {
   "cell_type": "markdown",
   "metadata": {},
   "source": [
    "## Open Window"
   ]
  },
  {
   "cell_type": "code",
   "execution_count": 18,
   "metadata": {},
   "outputs": [
    {
     "name": "stdout",
     "output_type": "stream",
     "text": [
      "<ButtonPress event num=2 x=237 y=161>\n",
      "<ButtonPress event num=2 x=173 y=75>\n",
      "Paste\n",
      "<ButtonPress event num=2 x=222 y=154>\n"
     ]
    }
   ],
   "source": [
    "window.mainloop()"
   ]
  }
 ],
 "metadata": {
  "interpreter": {
   "hash": "8f5ab71bff6db56de884124358177dc4b5f08efc4c8d738c105488aa9e4cf211"
  },
  "kernelspec": {
   "display_name": "Python 3.9.7 ('base')",
   "language": "python",
   "name": "python3"
  },
  "language_info": {
   "codemirror_mode": {
    "name": "ipython",
    "version": 3
   },
   "file_extension": ".py",
   "mimetype": "text/x-python",
   "name": "python",
   "nbconvert_exporter": "python",
   "pygments_lexer": "ipython3",
   "version": "3.9.7"
  },
  "orig_nbformat": 4
 },
 "nbformat": 4,
 "nbformat_minor": 2
}
