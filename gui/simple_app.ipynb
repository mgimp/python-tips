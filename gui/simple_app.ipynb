{
 "cells": [
  {
   "cell_type": "markdown",
   "metadata": {},
   "source": [
    "# Simple Window-Changing App"
   ]
  },
  {
   "cell_type": "markdown",
   "metadata": {},
   "source": [
    "## Imports and such\n",
    "\n",
    "`tkinter.ttk` module provides the modern themed widgets set and API.\n",
    "\n",
    "`class tkinter.Tk(screenName=None, baseName=None, className='Tk', useTk=1)`  \n",
    "The Tk class is instantiated without arguments. This creates a toplevel widget of Tk which usually is the main window of an application. Each instance has its own associated Tcl interpreter."
   ]
  },
  {
   "cell_type": "code",
   "execution_count": 113,
   "metadata": {},
   "outputs": [],
   "source": [
    "from tkinter import *\n",
    "from tkinter import ttk"
   ]
  },
  {
   "cell_type": "markdown",
   "metadata": {},
   "source": [
    "## Windows and Frames\n",
    "\n",
    "The `Tk()` class initializes Tk and creates its associated Tcl interpreter. It also creates a toplevel window, here known as 'window', which serves as the main window of the application."
   ]
  },
  {
   "cell_type": "code",
   "execution_count": 114,
   "metadata": {},
   "outputs": [
    {
     "data": {
      "text/plain": [
       "''"
      ]
     },
     "execution_count": 114,
     "metadata": {},
     "output_type": "execute_result"
    }
   ],
   "source": [
    "window = Tk()\n",
    "window.title(\"Simple App\")\n",
    "window.geometry(\"800x600\")"
   ]
  },
  {
   "cell_type": "markdown",
   "metadata": {},
   "source": [
    "The `Frame` widget fits inside of the root window. You can place things inside of frames. \n",
    "  \n",
    "The `grid()` method is used to specify the relative layout of widgets contained within. Calling `grid()` without arguments allows us to more easily place contained wigets (I think?)."
   ]
  },
  {
   "cell_type": "code",
   "execution_count": 115,
   "metadata": {},
   "outputs": [],
   "source": [
    "frm = ttk.Frame(window, padding=10)\n",
    "frm.grid()"
   ]
  },
  {
   "cell_type": "markdown",
   "metadata": {},
   "source": [
    "## Create Main Menus"
   ]
  },
  {
   "cell_type": "markdown",
   "metadata": {},
   "source": [
    "### Base (window) menus"
   ]
  },
  {
   "cell_type": "code",
   "execution_count": 116,
   "metadata": {},
   "outputs": [],
   "source": [
    "menu_popup = Menu(window)\n",
    "menu_bar = Menu(window)"
   ]
  },
  {
   "cell_type": "markdown",
   "metadata": {},
   "source": [
    "### Sub (bar) menus"
   ]
  },
  {
   "cell_type": "code",
   "execution_count": 117,
   "metadata": {},
   "outputs": [],
   "source": [
    "file_menu = Menu(menu_bar)\n",
    "menu_bar.add_cascade(label=\"File\", menu=file_menu)\n",
    "\n",
    "edit_menu = Menu(menu_bar)\n",
    "menu_bar.add_cascade(label=\"Edit\", menu=edit_menu)\n",
    "\n",
    "view_menu = Menu(menu_bar)\n",
    "menu_bar.add_cascade(label=\"View\", menu=view_menu)\n",
    "\n",
    "help_menu = Menu(menu_bar)\n",
    "menu_bar.add_cascade(label=\"Help\", menu=help_menu)"
   ]
  },
  {
   "cell_type": "code",
   "execution_count": 118,
   "metadata": {},
   "outputs": [],
   "source": [
    "file_menu.add_command(label=\"New\")\n",
    "file_menu.add_command(label=\"Open\")\n",
    "file_menu.add_separator()\n",
    "\n",
    "save_menu = Menu(file_menu)\n",
    "file_menu.add_cascade(label=\"Save\", menu=save_menu)\n",
    "save_menu.add_command(label=\"Save...\")\n",
    "save_menu.add_command(label=\"Save as...\")\n",
    "\n",
    "edit_menu.add_command(label=\"Undo\")\n",
    "edit_menu.add_command(label=\"Redo\")\n",
    "edit_menu.add_command(label=\"Moo Moo\")\n",
    "edit_menu.add_command(label=\"Coo Coo Cachoo\")\n",
    "\n",
    "view_menu.add_command(label=\"Quick Definition\")\n",
    "view_menu.add_command(label=\"Quick Type Definition\")\n",
    "view_menu.add_command(label=\"Parameter Info\")\n",
    "view_menu.add_command(label=\"London and France\")\n",
    "\n",
    "help_menu.add_command(label=\"Find Action...\")\n",
    "help_menu.add_command(label=\"Enable Course Creator Features\")\n",
    "help_menu.add_command(label=\"Me if you can I'm feeling dooooooown\")\n",
    "help_menu.add_command(label=\"I need somebody!\")"
   ]
  },
  {
   "cell_type": "markdown",
   "metadata": {},
   "source": [
    "### Popup Menu Setup"
   ]
  },
  {
   "cell_type": "code",
   "execution_count": 119,
   "metadata": {},
   "outputs": [],
   "source": [
    "def popup_menu_event(event):    \n",
    "    print(event)\n",
    "    x_position_of_click = event.x_root\n",
    "    y_position_of_click = event.y_root\n",
    "    menu_popup.post(x_position_of_click, y_position_of_click)   # post/place the pop menu where the user clicked."
   ]
  },
  {
   "cell_type": "code",
   "execution_count": 120,
   "metadata": {},
   "outputs": [],
   "source": [
    "menu_popup.add_command(label=\"Copy\")\n",
    "menu_popup.add_command(label=\"Paste\")\n",
    "menu_popup.add_command(label=\"Show Context Actions\")"
   ]
  },
  {
   "cell_type": "code",
   "execution_count": 121,
   "metadata": {},
   "outputs": [
    {
     "data": {
      "text/plain": [
       "'140272329866560popup_menu_event'"
      ]
     },
     "execution_count": 121,
     "metadata": {},
     "output_type": "execute_result"
    }
   ],
   "source": [
    "window.bind(\"<Button-2>\", popup_menu_event)"
   ]
  },
  {
   "cell_type": "code",
   "execution_count": 122,
   "metadata": {},
   "outputs": [],
   "source": [
    "window.config(menu=menu_bar)"
   ]
  },
  {
   "cell_type": "markdown",
   "metadata": {},
   "source": [
    "## Partition Windows\n",
    "\n",
    "Using grid"
   ]
  },
  {
   "cell_type": "code",
   "execution_count": null,
   "metadata": {},
   "outputs": [],
   "source": []
  },
  {
   "cell_type": "markdown",
   "metadata": {},
   "source": [
    "## Start Main Loop"
   ]
  },
  {
   "cell_type": "code",
   "execution_count": 123,
   "metadata": {},
   "outputs": [
    {
     "name": "stdout",
     "output_type": "stream",
     "text": [
      "<ButtonPress event num=2 x=249 y=109>\n",
      "<ButtonPress event num=2 x=522 y=242>\n",
      "<ButtonPress event num=2 x=267 y=392>\n",
      "<ButtonPress event num=2 x=78 y=150>\n",
      "<ButtonPress event num=2 x=350 y=293>\n"
     ]
    }
   ],
   "source": [
    "window.mainloop()"
   ]
  }
 ],
 "metadata": {
  "interpreter": {
   "hash": "8f5ab71bff6db56de884124358177dc4b5f08efc4c8d738c105488aa9e4cf211"
  },
  "kernelspec": {
   "display_name": "Python 3.9.7 ('base')",
   "language": "python",
   "name": "python3"
  },
  "language_info": {
   "codemirror_mode": {
    "name": "ipython",
    "version": 3
   },
   "file_extension": ".py",
   "mimetype": "text/x-python",
   "name": "python",
   "nbconvert_exporter": "python",
   "pygments_lexer": "ipython3",
   "version": "3.9.7"
  },
  "orig_nbformat": 4
 },
 "nbformat": 4,
 "nbformat_minor": 2
}
