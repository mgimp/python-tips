{
 "cells": [
  {
   "cell_type": "markdown",
   "metadata": {},
   "source": [
    "The \"timeit\" module lets you measure the execution time of small bits of Python code"
   ]
  },
  {
   "cell_type": "code",
   "execution_count": 2,
   "metadata": {},
   "outputs": [
    {
     "name": "stdout",
     "output_type": "stream",
     "text": [
      "0.16889129199999786\n",
      "0.1408732499999985\n",
      "0.1210585420000001\n"
     ]
    }
   ],
   "source": [
    "import timeit\n",
    "print(timeit.timeit('\"-\".join(str(n) for n in range(100))',\n",
    "                  number=10000))\n",
    "\n",
    "print(timeit.timeit('\"-\".join([str(n) for n in range(100)])',\n",
    "                  number=10000))\n",
    "\n",
    "print(timeit.timeit('\"-\".join(map(str, range(100)))',\n",
    "                  number=10000))"
   ]
  }
 ],
 "metadata": {
  "interpreter": {
   "hash": "8f5ab71bff6db56de884124358177dc4b5f08efc4c8d738c105488aa9e4cf211"
  },
  "kernelspec": {
   "display_name": "Python 3.9.7 ('base')",
   "language": "python",
   "name": "python3"
  },
  "language_info": {
   "codemirror_mode": {
    "name": "ipython",
    "version": 3
   },
   "file_extension": ".py",
   "mimetype": "text/x-python",
   "name": "python",
   "nbconvert_exporter": "python",
   "pygments_lexer": "ipython3",
   "version": "3.9.7"
  },
  "orig_nbformat": 4
 },
 "nbformat": 4,
 "nbformat_minor": 2
}
