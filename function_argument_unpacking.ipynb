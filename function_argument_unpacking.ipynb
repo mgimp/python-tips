{
 "cells": [
  {
   "cell_type": "markdown",
   "metadata": {},
   "source": [
    "# Function Argument Unpacking\n",
    "\n",
    "This is related to using variable length arguments as function inputs.\n",
    "\n",
    "## `*tuple_vec`\n",
    "\n",
    "Entering `tuple_vec` sans `*` will result in a TypeError: \"myfunc() missing 2 required positional arguments: 'y' and 'z'\"\n",
    "Essentially, it took the variable to satisfy only the first argument of the function.\n",
    "Adding `*` to the front seems to allow the variable to satisfy multiple arguments of the function.  \n",
    "\n",
    "Along the same vein, updateing `tuple_vec` to have 4 items will result in a Type Error: \"myfunc() takes 3 positional arguments but 4 were given\".  \n",
    "\n",
    "Nesting arrays or tuples into `tuple_vec` will however satisfy the 3-position requirement of `myfunc` with arrays or tuples being read as single arguments.  \n",
    "\n",
    "The `*` marker seems to apply for specific indices as well. `*tuple_vec[1]`, for example, will fill out the 3 arguments of `myfunc` with the 3 items of the array index.\n",
    "\n",
    "## `**dict_vec`\n",
    "\n",
    "Acts similarly to `tuple_vec` except that the function now expects dictionaries as arguments.  \n",
    "\n",
    "Typeing `dict_vec = {'x': (1, 0), 'y': [0, 1, 0], 'z': 1}`, for example, will result in Type Error when calling `**dict_vec['y']`: \"__main__.myfunc() argument after ** must be a mapping, not list\".  \n",
    "\n",
    "Adjusting to `dict_vec = {'x': (1, 0), 'y': {'x': 0, 'y': 1, 'z': 0}, 'z': 1}` will work because the containing `y` key is also a dictionary, as is expected by the call."
   ]
  },
  {
   "cell_type": "code",
   "execution_count": 4,
   "metadata": {},
   "outputs": [
    {
     "name": "stdout",
     "output_type": "stream",
     "text": [
      "tuple_vec: ((1, 0), [0, 1, 0], 1)\n",
      "tuple_vec: (0, 1, 0)\n",
      "dict_vec: ((1, 0), {'x': 0, 'y': 1, 'z': 0}, 1)\n",
      "dict_vec: (0, 1, 0)\n"
     ]
    }
   ],
   "source": [
    "def myfunc(x, y, z):\n",
    "    return x, y, z\n",
    "\n",
    "tuple_vec = (1, 0, 1)\n",
    "tuple_vec = ((1, 0), [0, 1, 0], 1)\n",
    "# tuple_vec = (1, 0, 1, 0)  # OUT: Type Error (when fed into myfunc)\n",
    "\n",
    "dict_vec = {'x': 1, 'y': 0, 'z': 1}\n",
    "# dict_vec = {'x': (1, 0), 'y': [0, 1, 0], 'z': 1}  # OUT: Type Error (when fed into myfunc)\n",
    "dict_vec = {'x': (1, 0), 'y': {'x': 0, 'y': 1, 'z': 0}, 'z': 1}\n",
    "\n",
    "print(f\"tuple_vec: {myfunc(*tuple_vec)}\")\n",
    "print(f\"tuple_vec: {myfunc(*tuple_vec[1])}\")\n",
    "\n",
    "# myfunc(tuple_vec) # OUT: Type Error\n",
    "\n",
    "print(f\"dict_vec: {myfunc(**dict_vec)}\")\n",
    "print(f\"dict_vec: {myfunc(**dict_vec['y'])}\")\n",
    "\n",
    "# myfunc(dict_vec)  # OUT: Type Error"
   ]
  }
 ],
 "metadata": {
  "interpreter": {
   "hash": "8f5ab71bff6db56de884124358177dc4b5f08efc4c8d738c105488aa9e4cf211"
  },
  "kernelspec": {
   "display_name": "Python 3.9.7 ('base')",
   "language": "python",
   "name": "python3"
  },
  "language_info": {
   "codemirror_mode": {
    "name": "ipython",
    "version": 3
   },
   "file_extension": ".py",
   "mimetype": "text/x-python",
   "name": "python",
   "nbconvert_exporter": "python",
   "pygments_lexer": "ipython3",
   "version": "3.9.7"
  },
  "orig_nbformat": 4
 },
 "nbformat": 4,
 "nbformat_minor": 2
}
