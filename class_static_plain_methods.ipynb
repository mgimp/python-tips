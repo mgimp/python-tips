{
 "cells": [
  {
   "cell_type": "markdown",
   "metadata": {},
   "source": [
    "# Class vs. Static vs. Plain Methods\n",
    "\n",
    "What is the difference?"
   ]
  },
  {
   "cell_type": "markdown",
   "metadata": {},
   "source": [
    "## Plain Method\n",
    "\n",
    "Instance methods need a class instance and can access the instance through `self`."
   ]
  },
  {
   "cell_type": "markdown",
   "metadata": {},
   "source": [
    "## Class Method\n",
    "\n",
    "Class methods don't need a class inctance. They can;t access the instance (`self`) but they have access to the class itself via `cls`."
   ]
  },
  {
   "cell_type": "markdown",
   "metadata": {},
   "source": [
    "## Static Method\n",
    "\n",
    "Static methods don't have access to `cls` or `self`. They work like regular functions but belong to the class's namespace.\n",
    "\n",
    "### Why use Static Method?\n",
    "\n",
    "1. Eliminates the use of the `self` argument.\n",
    "2. Reduces memory usage becayse Python doesn't have to instantiate a bound-method for each object instantiated (don't have to recreate the method for each new object).\n",
    "3. Improves code readability, signifying that the method does not depend on the state of the object itself.\n",
    "4. Allows for method overriding in that if the method were defined at the module-level (outside the class), a subclass would not be able to override that method."
   ]
  },
  {
   "cell_type": "code",
   "execution_count": null,
   "metadata": {},
   "outputs": [],
   "source": [
    "class MyClass:\n",
    "    def method(self):\n",
    "        return 'instance method called', self\n",
    "        \n",
    "    @classmethod\n",
    "    def classmethod(cls):\n",
    "        return 'class method called', cls\n",
    "    \n",
    "    @staticmethod\n",
    "    def staticmethod():\n",
    "        return 'static method called'    "
   ]
  },
  {
   "cell_type": "code",
   "execution_count": null,
   "metadata": {},
   "outputs": [],
   "source": [
    "obj = MyClass()\n",
    "obj.method()\n",
    "obj.classmethod()\n",
    "obj.staticmethod()"
   ]
  }
 ],
 "metadata": {
  "interpreter": {
   "hash": "8f5ab71bff6db56de884124358177dc4b5f08efc4c8d738c105488aa9e4cf211"
  },
  "kernelspec": {
   "display_name": "Python 3.9.7 ('base')",
   "language": "python",
   "name": "python3"
  },
  "language_info": {
   "codemirror_mode": {
    "name": "ipython",
    "version": 3
   },
   "file_extension": ".py",
   "mimetype": "text/x-python",
   "name": "python",
   "nbconvert_exporter": "python",
   "pygments_lexer": "ipython3",
   "version": "3.9.7"
  },
  "orig_nbformat": 4
 },
 "nbformat": 4,
 "nbformat_minor": 2
}
