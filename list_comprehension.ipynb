{
 "cells": [
  {
   "cell_type": "markdown",
   "metadata": {},
   "source": [
    "# List Comprehension\n",
    "\n",
    "Python's list comprehensions are awesome.\n",
    "\n",
    "```py\n",
    "vals = [expression \n",
    "        for value in collection \n",
    "        if condition]\n",
    "```\n",
    "\n",
    "This is equivalent to:\n",
    "\n",
    "```py\n",
    "vals = []\n",
    "for value in collection:\n",
    "    if condition:\n",
    "        vals.append(expression)\n",
    "```"
   ]
  },
  {
   "cell_type": "code",
   "execution_count": 1,
   "metadata": {},
   "outputs": [
    {
     "data": {
      "text/plain": [
       "[0, 4, 16, 36, 64]"
      ]
     },
     "execution_count": 1,
     "metadata": {},
     "output_type": "execute_result"
    }
   ],
   "source": [
    "# Example:\n",
    "even_squares = [x * x for x in range(10) if not x % 2]\n",
    "even_squares\n",
    "# OUT: [0, 4, 16, 36, 64]"
   ]
  }
 ],
 "metadata": {
  "interpreter": {
   "hash": "8f5ab71bff6db56de884124358177dc4b5f08efc4c8d738c105488aa9e4cf211"
  },
  "kernelspec": {
   "display_name": "Python 3.9.7 ('base')",
   "language": "python",
   "name": "python3"
  },
  "language_info": {
   "codemirror_mode": {
    "name": "ipython",
    "version": 3
   },
   "file_extension": ".py",
   "mimetype": "text/x-python",
   "name": "python",
   "nbconvert_exporter": "python",
   "pygments_lexer": "ipython3",
   "version": "3.9.7"
  },
  "orig_nbformat": 4
 },
 "nbformat": 4,
 "nbformat_minor": 2
}
