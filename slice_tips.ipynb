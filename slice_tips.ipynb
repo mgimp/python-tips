{
 "cells": [
  {
   "cell_type": "code",
   "execution_count": null,
   "metadata": {},
   "outputs": [],
   "source": [
    "# Python's list slice syntax can be used without indices\n",
    "# for a few fun and useful things:\n",
    "\n",
    "# You can clear all elements from a list:\n",
    ">>> lst = [1, 2, 3, 4, 5]\n",
    ">>> del lst[:]\n",
    ">>> lst\n",
    "[]\n",
    "\n",
    "# You can replace all elements of a list\n",
    "# without creating a new list object:\n",
    ">>> a = lst\n",
    ">>> lst[:] = [7, 8, 9]\n",
    ">>> lst\n",
    "[7, 8, 9]\n",
    ">>> a\n",
    "[7, 8, 9]\n",
    ">>> a is lst\n",
    "True\n",
    "\n",
    "# You can also create a (shallow) copy of a list:\n",
    ">>> b = lst[:]\n",
    ">>> b\n",
    "[7, 8, 9]\n",
    ">>> b is lst\n",
    "False"
   ]
  }
 ],
 "metadata": {
  "language_info": {
   "name": "python"
  },
  "orig_nbformat": 4
 },
 "nbformat": 4,
 "nbformat_minor": 2
}
